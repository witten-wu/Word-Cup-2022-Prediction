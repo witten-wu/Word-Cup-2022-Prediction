{
 "cells": [
  {
   "cell_type": "markdown",
   "id": "04891d62-6d08-4a18-88d8-3dba71dfbc4c",
   "metadata": {},
   "source": [
    "# FIFA 2022 World Cup Prediction \n",
    "\n",
    "*Author: Group 10*"
   ]
  },
  {
   "cell_type": "markdown",
   "id": "3e464e1f-c8a3-4afb-b7d1-67ea0b29787e",
   "metadata": {
    "tags": []
   },
   "source": [
    "**Abstract**"
   ]
  },
  {
   "cell_type": "markdown",
   "id": "d65e6323-fae5-4e5c-b85a-043d73ca3f36",
   "metadata": {},
   "source": [
    "[![Binder](https://mybinder.org/badge_logo.svg)](https://mybinder.org/v2/git/https%3A%2F%2Fgitlab1.cs.cityu.edu.hk%2Fccha23%2Fcs5483jupyter/main?urlpath=git-pull?repo%3Dhttps%3A%2F%2Fgitlab1.cs.cityu.edu.hk%2Fccha23%2Fcs5483jupyter%26branch%3Dmain%26urlpath%3Dlab%2Ftree%2Fcs5483jupyter%2Fdocs%2FAbstract.ipynb)\n",
    "[![CS5483](badge.dio.svg)](https://cs5483.cs.cityu.edu.hk/hub/user-redirect/git-pull?repo=https://gitlab1.cs.cityu.edu.hk/ccha23/cs5483jupyter&urlpath=lab/tree/cs5483jupyter/docs/Abstract.ipynb&branch=main)"
   ]
  },
  {
   "cell_type": "markdown",
   "id": "4722500d-b852-420a-a8aa-a973a202b6d5",
   "metadata": {
    "jp-MarkdownHeadingCollapsed": true,
    "tags": []
   },
   "source": [
    " **Objective**:\n",
    " \n",
    "    Prediction of the result of FIFA world cup 2018, Prediction results are \"Win / Lose / Draw\" .\n",
    "    \n",
    " **Data**:\n",
    " \n",
    "    Data are assembled from multiple sources, most of them are from Kaggle, others come from FIFA website."
   ]
  },
  {
   "cell_type": "markdown",
   "id": "625bb3cf-0b98-420c-a728-7e8750421161",
   "metadata": {},
   "source": [
    "**Acknowledgements**\n",
    "\n",
    "This work is supported in part by a UGC VTL grant for the project DIVE."
   ]
  }
 ],
 "metadata": {
  "jupytext": {
   "formats": "ipynb,md:myst"
  },
  "kernelspec": {
   "display_name": "Python 3 (ipykernel)",
   "language": "python",
   "name": "python3"
  },
  "language_info": {
   "codemirror_mode": {
    "name": "ipython",
    "version": 3
   },
   "file_extension": ".py",
   "mimetype": "text/x-python",
   "name": "python",
   "nbconvert_exporter": "python",
   "pygments_lexer": "ipython3",
   "version": "3.9.10"
  }
 },
 "nbformat": 4,
 "nbformat_minor": 5
}
